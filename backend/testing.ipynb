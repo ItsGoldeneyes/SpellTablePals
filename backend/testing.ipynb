{
 "cells": [
  {
   "cell_type": "code",
   "execution_count": 78,
   "metadata": {},
   "outputs": [
    {
     "name": "stdout",
     "output_type": "stream",
     "text": [
      "Error: 500\n"
     ]
    }
   ],
   "source": [
    "import requests\n",
    "import json\n",
    "url = \"https://backend-production-c33b.up.railway.app/user_profiles\"  # Replace with your API URL\n",
    "\n",
    "response = requests.post(url, json=[(\"Goldeneyes\"),(\"Bilbo_Baggins\")])\n",
    "\n",
    "if response.status_code == 200:\n",
    "    # Request was successful\n",
    "    data = response.json()\n",
    "    # Print json data to console\n",
    "    print(\"Data received from API:\")\n",
    "    print(json.dumps(data, ensure_ascii=False, indent=4))\n",
    "else:\n",
    "    # Request failed\n",
    "    print(\"Error:\", response.status_code)\n"
   ]
  },
  {
   "cell_type": "code",
   "execution_count": null,
   "metadata": {},
   "outputs": [],
   "source": []
  }
 ],
 "metadata": {
  "kernelspec": {
   "display_name": "Python 3",
   "language": "python",
   "name": "python3"
  },
  "language_info": {
   "codemirror_mode": {
    "name": "ipython",
    "version": 3
   },
   "file_extension": ".py",
   "mimetype": "text/x-python",
   "name": "python",
   "nbconvert_exporter": "python",
   "pygments_lexer": "ipython3",
   "version": "3.9.13"
  }
 },
 "nbformat": 4,
 "nbformat_minor": 2
}
