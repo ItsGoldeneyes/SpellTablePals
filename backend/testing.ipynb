{
 "cells": [
  {
   "cell_type": "code",
   "execution_count": 4,
   "metadata": {},
   "outputs": [
    {
     "name": "stdout",
     "output_type": "stream",
     "text": [
      "{'Fancypants': {'blocked': False, 'custom_format': {'backgroundColor': '', 'color': '#edc2f6', 'fontSize': '', 'fontWeight': '', 'letterSpacing': '', 'lineHeight': '', 'textDecoration': '', 'textIndent': '', 'textShadow': '', 'textTransform': '', 'whiteSpace': '', 'wordSpacing': ''}}, 'Goldeneyes': {'blocked': False, 'custom_format': {'backgroundColor': '', 'color': '', 'fontSize': '', 'fontWeight': '', 'letterSpacing': '', 'lineHeight': '', 'textDecoration': '', 'textIndent': '', 'textShadow': '', 'textTransform': '', 'whiteSpace': '', 'wordSpacing': ''}}, 'Icarus': {'blocked': False, 'custom_format': {'backgroundColor': '', 'color': '#89b0ff', 'fontSize': '', 'fontWeight': '', 'letterSpacing': '', 'lineHeight': '', 'textDecoration': '', 'textIndent': '', 'textShadow': '', 'textTransform': '', 'whiteSpace': '', 'wordSpacing': ''}}, 'Pim': {'blocked': True, 'custom_format': {'backgroundColor': '', 'color': 'red', 'fontSize': '1.6em', 'fontWeight': 'bold', 'letterSpacing': '', 'lineHeight': '', 'textDecoration': '', 'textIndent': '', 'textShadow': '', 'textTransform': '', 'whiteSpace': '', 'wordSpacing': ''}}, 'SkaJohnny': {'blocked': False, 'custom_format': {'backgroundColor': '', 'color': '#edc2f6', 'fontSize': '', 'fontWeight': '', 'letterSpacing': '', 'lineHeight': '', 'textDecoration': '', 'textIndent': '', 'textShadow': '', 'textTransform': '', 'whiteSpace': '', 'wordSpacing': ''}}, 'magicmartymar': {'blocked': False, 'custom_format': {'backgroundColor': '', 'color': '#89b0ff', 'fontSize': '', 'fontWeight': '', 'letterSpacing': '', 'lineHeight': '', 'textDecoration': '', 'textIndent': '', 'textShadow': '', 'textTransform': '', 'whiteSpace': '', 'wordSpacing': ''}}, 'sneakyhobbitses': {'blocked': False, 'custom_format': {'backgroundColor': '', 'color': '', 'fontSize': '', 'fontWeight': '', 'letterSpacing': '', 'lineHeight': '', 'textDecoration': '', 'textIndent': '', 'textShadow': '', 'textTransform': '', 'whiteSpace': '', 'wordSpacing': ''}}}\n"
     ]
    }
   ],
   "source": [
    "import requests\n",
    "\n",
    "url = \"https://backend-production-c33b.up.railway.app/user_profiles\"  # Replace with your API URL\n",
    "\n",
    "response = requests.get(url)\n",
    "\n",
    "if response.status_code == 200:\n",
    "    # Request was successful\n",
    "    data = response.json()\n",
    "    # Process the response data here\n",
    "    print(data)\n",
    "else:\n",
    "    # Request failed\n",
    "    print(\"Error:\", response.status_code)\n"
   ]
  },
  {
   "cell_type": "code",
   "execution_count": null,
   "metadata": {},
   "outputs": [],
   "source": []
  }
 ],
 "metadata": {
  "kernelspec": {
   "display_name": "Python 3",
   "language": "python",
   "name": "python3"
  },
  "language_info": {
   "codemirror_mode": {
    "name": "ipython",
    "version": 3
   },
   "file_extension": ".py",
   "mimetype": "text/x-python",
   "name": "python",
   "nbconvert_exporter": "python",
   "pygments_lexer": "ipython3",
   "version": "3.9.13"
  }
 },
 "nbformat": 4,
 "nbformat_minor": 2
}
