{
 "cells": [
  {
   "cell_type": "code",
   "execution_count": 3,
   "metadata": {},
   "outputs": [
    {
     "name": "stdout",
     "output_type": "stream",
     "text": [
      "Data received from API:\n",
      "{\n",
      "    \"sneakyhobbitses\": {\n",
      "        \"custom_format\": {\n",
      "            \"backgroundColor\": \"\",\n",
      "            \"color\": \"pink\",\n",
      "            \"fontSize\": \"\",\n",
      "            \"fontWeight\": \"\",\n",
      "            \"letterSpacing\": \"\",\n",
      "            \"lineHeight\": \"\",\n",
      "            \"textDecoration\": \"\",\n",
      "            \"textIndent\": \"\",\n",
      "            \"textShadow\": \"\",\n",
      "            \"textTransform\": \"\",\n",
      "            \"whiteSpace\": \"\",\n",
      "            \"wordSpacing\": \"\"\n",
      "        },\n",
      "        \"reason\": \"\",\n",
      "        \"role\": \"custom\"\n",
      "    },\n",
      "    \"teTTstboy\": {\n",
      "        \"custom_format\": null,\n",
      "        \"reason\": null,\n",
      "        \"role\": null\n",
      "    },\n",
      "    \"tettstboy\": {\n",
      "        \"custom_format\": null,\n",
      "        \"reason\": null,\n",
      "        \"role\": null\n",
      "    }\n",
      "}\n"
     ]
    }
   ],
   "source": [
    "import requests\n",
    "import json\n",
    "url = \"https://backend-production-c33b.up.railway.app/user_profiles\"  # Replace with your API URL\n",
    "\n",
    "response = requests.post(url, json={\"session_id\": \"12345236643as\", \"players\": [\"sneakyhobbitses\", \"teTTstboy\"]})\n",
    "\n",
    "if response.status_code == 200:\n",
    "    # Request was successful\n",
    "    data = response.json()\n",
    "    # Print json data to console\n",
    "    print(\"Data received from API:\")\n",
    "    print(json.dumps(data, ensure_ascii=False, indent=4))\n",
    "else:\n",
    "    # Request failed\n",
    "    print(\"Error:\", response.status_code)\n"
   ]
  },
  {
   "cell_type": "code",
   "execution_count": 8,
   "metadata": {},
   "outputs": [
    {
     "name": "stdout",
     "output_type": "stream",
     "text": [
      "{\"success\":\"Success\"}\n",
      "\n"
     ]
    }
   ],
   "source": [
    "import requests\n",
    "import json\n",
    "\n",
    "url = \"https://backend-production-c33b.up.railway.app/process_games\"\n",
    "\n",
    "payload={}\n",
    "\n",
    "response = requests.post(url, data=payload)\n",
    "\n",
    "print(response.text)"
   ]
  },
  {
   "cell_type": "code",
   "execution_count": 30,
   "metadata": {},
   "outputs": [
    {
     "name": "stdout",
     "output_type": "stream",
     "text": [
      "{\"status\":\"Success\"}\n",
      "\n"
     ]
    }
   ],
   "source": [
    "import requests\n",
    "import json\n",
    "\n",
    "url = \"https://backend-production-c33b.up.railway.app/update_pal_profiles\"\n",
    "\n",
    "payload={\"12345236642ss23as\": {\"role\": \"council\", \"username\": \"Icarus\"}}\n",
    "\n",
    "response = requests.post(url, json=payload)\n",
    "\n",
    "print(response.text)"
   ]
  },
  {
   "cell_type": "code",
   "execution_count": 29,
   "metadata": {},
   "outputs": [
    {
     "name": "stdout",
     "output_type": "stream",
     "text": [
      "{\"status\":\"Failed: chill\"}\n",
      "\n"
     ]
    }
   ],
   "source": [
    "import requests\n",
    "import json\n",
    "\n",
    "url = \"https://backend-production-c33b.up.railway.app/block_user\"\n",
    "\n",
    "payload={\"username\": \"magicmartymar\", \"reason\": \"hehe\"}\n",
    "response = requests.post(url, json=payload)\n",
    "\n",
    "print(response.text)"
   ]
  },
  {
   "cell_type": "code",
   "execution_count": null,
   "metadata": {},
   "outputs": [],
   "source": []
  }
 ],
 "metadata": {
  "kernelspec": {
   "display_name": "Python 3",
   "language": "python",
   "name": "python3"
  },
  "language_info": {
   "codemirror_mode": {
    "name": "ipython",
    "version": 3
   },
   "file_extension": ".py",
   "mimetype": "text/x-python",
   "name": "python",
   "nbconvert_exporter": "python",
   "pygments_lexer": "ipython3",
   "version": "3.9.13"
  }
 },
 "nbformat": 4,
 "nbformat_minor": 2
}
